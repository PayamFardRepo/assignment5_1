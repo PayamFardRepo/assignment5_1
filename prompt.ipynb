{
 "cells": [
  {
   "cell_type": "markdown",
   "metadata": {
    "id": "CcUT6Fon_qRE"
   },
   "source": [
    "### Required Assignment 5.1: Will the Customer Accept the Coupon?\n",
    "\n",
    "**Context**\n",
    "\n",
    "Imagine driving through town and a coupon is delivered to your cell phone for a restaurant near where you are driving. Would you accept that coupon and take a short detour to the restaurant? Would you accept the coupon but use it on a subsequent trip? Would you ignore the coupon entirely? What if the coupon was for a bar instead of a restaurant? What about a coffee house? Would you accept a bar coupon with a minor passenger in the car? What about if it was just you and your partner in the car? Would weather impact the rate of acceptance? What about the time of day?\n",
    "\n",
    "Obviously, proximity to the business is a factor on whether the coupon is delivered to the driver or not, but what are the factors that determine whether a driver accepts the coupon once it is delivered to them? How would you determine whether a driver is likely to accept a coupon?\n",
    "\n",
    "**Overview**\n",
    "\n",
    "The goal of this project is to use what you know about visualizations and probability distributions to distinguish between customers who accepted a driving coupon versus those that did not.\n",
    "\n",
    "**Data**\n",
    "\n",
    "This data comes to us from the UCI Machine Learning repository and was collected via a survey on Amazon Mechanical Turk. The survey describes different driving scenarios including the destination, current time, weather, passenger, etc., and then ask the person whether he will accept the coupon if he is the driver. Answers that the user will drive there ‘right away’ or ‘later before the coupon expires’ are labeled as ‘Y = 1’ and answers ‘no, I do not want the coupon’ are labeled as ‘Y = 0’.  There are five different types of coupons -- less expensive restaurants (under \\$20), coffee houses, carry out & take away, bar, and more expensive restaurants (\\$20 - $50)."
   ]
  },
  {
   "cell_type": "markdown",
   "metadata": {
    "id": "1wORvMBJ_qRF"
   },
   "source": [
    "**Deliverables**\n",
    "\n",
    "Your final product should be a brief report that highlights the differences between customers who did and did not accept the coupons.  To explore the data you will utilize your knowledge of plotting, statistical summaries, and visualization using Python. You will publish your findings in a public facing github repository as your first portfolio piece.\n",
    "\n",
    "\n",
    "\n"
   ]
  },
  {
   "cell_type": "markdown",
   "metadata": {
    "id": "pG6_Ym6q_qRG"
   },
   "source": [
    "### Data Description\n",
    "Keep in mind that these values mentioned below are average values.\n",
    "\n",
    "The attributes of this data set include:\n",
    "1. User attributes\n",
    "    -  Gender: male, female\n",
    "    -  Age: below 21, 21 to 25, 26 to 30, etc.\n",
    "    -  Marital Status: single, married partner, unmarried partner, or widowed\n",
    "    -  Number of children: 0, 1, or more than 1\n",
    "    -  Education: high school, bachelors degree, associates degree, or graduate degree\n",
    "    -  Occupation: architecture & engineering, business & financial, etc.\n",
    "    -  Annual income: less than \\\\$12500, \\\\$12500 - \\\\$24999, \\\\$25000 - \\\\$37499, etc.\n",
    "    -  Number of times that he/she goes to a bar: 0, less than 1, 1 to 3, 4 to 8 or greater than 8\n",
    "    -  Number of times that he/she buys takeaway food: 0, less than 1, 1 to 3, 4 to 8 or greater\n",
    "    than 8\n",
    "    -  Number of times that he/she goes to a coffee house: 0, less than 1, 1 to 3, 4 to 8 or\n",
    "    greater than 8\n",
    "    -  Number of times that he/she eats at a restaurant with average expense less than \\\\$20 per\n",
    "    person: 0, less than 1, 1 to 3, 4 to 8 or greater than 8\n",
    "    -  Number of times that he/she goes to a bar: 0, less than 1, 1 to 3, 4 to 8 or greater than 8\n",
    "    \n",
    "\n",
    "2. Contextual attributes\n",
    "    - Driving destination: home, work, or no urgent destination\n",
    "    - Location of user, coupon and destination: we provide a map to show the geographical\n",
    "    location of the user, destination, and the venue, and we mark the distance between each\n",
    "    two places with time of driving. The user can see whether the venue is in the same\n",
    "    direction as the destination.\n",
    "    - Weather: sunny, rainy, or snowy\n",
    "    - Temperature: 30F, 55F, or 80F\n",
    "    - Time: 10AM, 2PM, or 6PM\n",
    "    - Passenger: alone, partner, kid(s), or friend(s)\n",
    "\n",
    "\n",
    "3. Coupon attributes\n",
    "    - time before it expires: 2 hours or one day"
   ]
  },
  {
   "cell_type": "code",
   "execution_count": 1,
   "metadata": {
    "id": "dzNoP3o__qRG"
   },
   "outputs": [],
   "source": [
    "import matplotlib.pyplot as plt\n",
    "import seaborn as sns\n",
    "import pandas as pd\n",
    "import numpy as np"
   ]
  },
  {
   "cell_type": "markdown",
   "metadata": {
    "id": "Ct8pI1uE_qRG"
   },
   "source": [
    "### Problems\n",
    "\n",
    "Use the prompts below to get started with your data analysis.  \n",
    "\n",
    "1. Read in the `coupons.csv` file.\n",
    "\n",
    "\n"
   ]
  },
  {
   "cell_type": "code",
   "execution_count": 9,
   "metadata": {
    "id": "X0vbffYg_qRH"
   },
   "outputs": [],
   "source": [
    "data = pd.read_csv(r'C:\\Users\\payam\\OneDrive\\Desktop\\assignment5_1\\data\\coupons.csv')"
   ]
  },
  {
   "cell_type": "code",
   "execution_count": 11,
   "metadata": {
    "id": "TXofQ_DF_qRH",
    "outputId": "2fc96a2c-1112-4b54-f24f-dbb9bc88abfb"
   },
   "outputs": [
    {
     "data": {
      "text/html": [
       "<div>\n",
       "<style scoped>\n",
       "    .dataframe tbody tr th:only-of-type {\n",
       "        vertical-align: middle;\n",
       "    }\n",
       "\n",
       "    .dataframe tbody tr th {\n",
       "        vertical-align: top;\n",
       "    }\n",
       "\n",
       "    .dataframe thead th {\n",
       "        text-align: right;\n",
       "    }\n",
       "</style>\n",
       "<table border=\"1\" class=\"dataframe\">\n",
       "  <thead>\n",
       "    <tr style=\"text-align: right;\">\n",
       "      <th></th>\n",
       "      <th>destination</th>\n",
       "      <th>passanger</th>\n",
       "      <th>weather</th>\n",
       "      <th>temperature</th>\n",
       "      <th>time</th>\n",
       "      <th>coupon</th>\n",
       "      <th>expiration</th>\n",
       "      <th>gender</th>\n",
       "      <th>age</th>\n",
       "      <th>maritalStatus</th>\n",
       "      <th>...</th>\n",
       "      <th>CoffeeHouse</th>\n",
       "      <th>CarryAway</th>\n",
       "      <th>RestaurantLessThan20</th>\n",
       "      <th>Restaurant20To50</th>\n",
       "      <th>toCoupon_GEQ5min</th>\n",
       "      <th>toCoupon_GEQ15min</th>\n",
       "      <th>toCoupon_GEQ25min</th>\n",
       "      <th>direction_same</th>\n",
       "      <th>direction_opp</th>\n",
       "      <th>Y</th>\n",
       "    </tr>\n",
       "  </thead>\n",
       "  <tbody>\n",
       "    <tr>\n",
       "      <th>0</th>\n",
       "      <td>No Urgent Place</td>\n",
       "      <td>Alone</td>\n",
       "      <td>Sunny</td>\n",
       "      <td>55</td>\n",
       "      <td>2PM</td>\n",
       "      <td>Restaurant(&lt;20)</td>\n",
       "      <td>1d</td>\n",
       "      <td>Female</td>\n",
       "      <td>21</td>\n",
       "      <td>Unmarried partner</td>\n",
       "      <td>...</td>\n",
       "      <td>never</td>\n",
       "      <td>NaN</td>\n",
       "      <td>4~8</td>\n",
       "      <td>1~3</td>\n",
       "      <td>1</td>\n",
       "      <td>0</td>\n",
       "      <td>0</td>\n",
       "      <td>0</td>\n",
       "      <td>1</td>\n",
       "      <td>1</td>\n",
       "    </tr>\n",
       "    <tr>\n",
       "      <th>1</th>\n",
       "      <td>No Urgent Place</td>\n",
       "      <td>Friend(s)</td>\n",
       "      <td>Sunny</td>\n",
       "      <td>80</td>\n",
       "      <td>10AM</td>\n",
       "      <td>Coffee House</td>\n",
       "      <td>2h</td>\n",
       "      <td>Female</td>\n",
       "      <td>21</td>\n",
       "      <td>Unmarried partner</td>\n",
       "      <td>...</td>\n",
       "      <td>never</td>\n",
       "      <td>NaN</td>\n",
       "      <td>4~8</td>\n",
       "      <td>1~3</td>\n",
       "      <td>1</td>\n",
       "      <td>0</td>\n",
       "      <td>0</td>\n",
       "      <td>0</td>\n",
       "      <td>1</td>\n",
       "      <td>0</td>\n",
       "    </tr>\n",
       "    <tr>\n",
       "      <th>2</th>\n",
       "      <td>No Urgent Place</td>\n",
       "      <td>Friend(s)</td>\n",
       "      <td>Sunny</td>\n",
       "      <td>80</td>\n",
       "      <td>10AM</td>\n",
       "      <td>Carry out &amp; Take away</td>\n",
       "      <td>2h</td>\n",
       "      <td>Female</td>\n",
       "      <td>21</td>\n",
       "      <td>Unmarried partner</td>\n",
       "      <td>...</td>\n",
       "      <td>never</td>\n",
       "      <td>NaN</td>\n",
       "      <td>4~8</td>\n",
       "      <td>1~3</td>\n",
       "      <td>1</td>\n",
       "      <td>1</td>\n",
       "      <td>0</td>\n",
       "      <td>0</td>\n",
       "      <td>1</td>\n",
       "      <td>1</td>\n",
       "    </tr>\n",
       "    <tr>\n",
       "      <th>3</th>\n",
       "      <td>No Urgent Place</td>\n",
       "      <td>Friend(s)</td>\n",
       "      <td>Sunny</td>\n",
       "      <td>80</td>\n",
       "      <td>2PM</td>\n",
       "      <td>Coffee House</td>\n",
       "      <td>2h</td>\n",
       "      <td>Female</td>\n",
       "      <td>21</td>\n",
       "      <td>Unmarried partner</td>\n",
       "      <td>...</td>\n",
       "      <td>never</td>\n",
       "      <td>NaN</td>\n",
       "      <td>4~8</td>\n",
       "      <td>1~3</td>\n",
       "      <td>1</td>\n",
       "      <td>1</td>\n",
       "      <td>0</td>\n",
       "      <td>0</td>\n",
       "      <td>1</td>\n",
       "      <td>0</td>\n",
       "    </tr>\n",
       "    <tr>\n",
       "      <th>4</th>\n",
       "      <td>No Urgent Place</td>\n",
       "      <td>Friend(s)</td>\n",
       "      <td>Sunny</td>\n",
       "      <td>80</td>\n",
       "      <td>2PM</td>\n",
       "      <td>Coffee House</td>\n",
       "      <td>1d</td>\n",
       "      <td>Female</td>\n",
       "      <td>21</td>\n",
       "      <td>Unmarried partner</td>\n",
       "      <td>...</td>\n",
       "      <td>never</td>\n",
       "      <td>NaN</td>\n",
       "      <td>4~8</td>\n",
       "      <td>1~3</td>\n",
       "      <td>1</td>\n",
       "      <td>1</td>\n",
       "      <td>0</td>\n",
       "      <td>0</td>\n",
       "      <td>1</td>\n",
       "      <td>0</td>\n",
       "    </tr>\n",
       "  </tbody>\n",
       "</table>\n",
       "<p>5 rows × 26 columns</p>\n",
       "</div>"
      ],
      "text/plain": [
       "       destination  passanger weather  temperature  time  \\\n",
       "0  No Urgent Place      Alone   Sunny           55   2PM   \n",
       "1  No Urgent Place  Friend(s)   Sunny           80  10AM   \n",
       "2  No Urgent Place  Friend(s)   Sunny           80  10AM   \n",
       "3  No Urgent Place  Friend(s)   Sunny           80   2PM   \n",
       "4  No Urgent Place  Friend(s)   Sunny           80   2PM   \n",
       "\n",
       "                  coupon expiration  gender age      maritalStatus  ...  \\\n",
       "0        Restaurant(<20)         1d  Female  21  Unmarried partner  ...   \n",
       "1           Coffee House         2h  Female  21  Unmarried partner  ...   \n",
       "2  Carry out & Take away         2h  Female  21  Unmarried partner  ...   \n",
       "3           Coffee House         2h  Female  21  Unmarried partner  ...   \n",
       "4           Coffee House         1d  Female  21  Unmarried partner  ...   \n",
       "\n",
       "   CoffeeHouse CarryAway RestaurantLessThan20 Restaurant20To50  \\\n",
       "0        never       NaN                  4~8              1~3   \n",
       "1        never       NaN                  4~8              1~3   \n",
       "2        never       NaN                  4~8              1~3   \n",
       "3        never       NaN                  4~8              1~3   \n",
       "4        never       NaN                  4~8              1~3   \n",
       "\n",
       "  toCoupon_GEQ5min toCoupon_GEQ15min toCoupon_GEQ25min direction_same  \\\n",
       "0                1                 0                 0              0   \n",
       "1                1                 0                 0              0   \n",
       "2                1                 1                 0              0   \n",
       "3                1                 1                 0              0   \n",
       "4                1                 1                 0              0   \n",
       "\n",
       "  direction_opp  Y  \n",
       "0             1  1  \n",
       "1             1  0  \n",
       "2             1  1  \n",
       "3             1  0  \n",
       "4             1  0  \n",
       "\n",
       "[5 rows x 26 columns]"
      ]
     },
     "execution_count": 11,
     "metadata": {},
     "output_type": "execute_result"
    }
   ],
   "source": [
    "data.head()"
   ]
  },
  {
   "cell_type": "markdown",
   "metadata": {
    "id": "GcDs78ZH_qRH"
   },
   "source": [
    "2. Investigate the dataset for missing or problematic data."
   ]
  },
  {
   "cell_type": "code",
   "execution_count": 15,
   "metadata": {
    "id": "6CwL6oWj_qRH"
   },
   "outputs": [
    {
     "name": "stdout",
     "output_type": "stream",
     "text": [
      "           destination  passanger weather  temperature  time  \\\n",
      "0      No Urgent Place      Alone   Sunny           55   2PM   \n",
      "1      No Urgent Place  Friend(s)   Sunny           80  10AM   \n",
      "2      No Urgent Place  Friend(s)   Sunny           80  10AM   \n",
      "3      No Urgent Place  Friend(s)   Sunny           80   2PM   \n",
      "4      No Urgent Place  Friend(s)   Sunny           80   2PM   \n",
      "...                ...        ...     ...          ...   ...   \n",
      "12679             Home    Partner   Rainy           55   6PM   \n",
      "12680             Work      Alone   Rainy           55   7AM   \n",
      "12681             Work      Alone   Snowy           30   7AM   \n",
      "12682             Work      Alone   Snowy           30   7AM   \n",
      "12683             Work      Alone   Sunny           80   7AM   \n",
      "\n",
      "                      coupon expiration  gender age      maritalStatus  ...  \\\n",
      "0            Restaurant(<20)         1d  Female  21  Unmarried partner  ...   \n",
      "1               Coffee House         2h  Female  21  Unmarried partner  ...   \n",
      "2      Carry out & Take away         2h  Female  21  Unmarried partner  ...   \n",
      "3               Coffee House         2h  Female  21  Unmarried partner  ...   \n",
      "4               Coffee House         1d  Female  21  Unmarried partner  ...   \n",
      "...                      ...        ...     ...  ..                ...  ...   \n",
      "12679  Carry out & Take away         1d    Male  26             Single  ...   \n",
      "12680  Carry out & Take away         1d    Male  26             Single  ...   \n",
      "12681           Coffee House         1d    Male  26             Single  ...   \n",
      "12682                    Bar         1d    Male  26             Single  ...   \n",
      "12683      Restaurant(20-50)         2h    Male  26             Single  ...   \n",
      "\n",
      "       CoffeeHouse CarryAway RestaurantLessThan20 Restaurant20To50  \\\n",
      "0            never       NaN                  4~8              1~3   \n",
      "1            never       NaN                  4~8              1~3   \n",
      "2            never       NaN                  4~8              1~3   \n",
      "3            never       NaN                  4~8              1~3   \n",
      "4            never       NaN                  4~8              1~3   \n",
      "...            ...       ...                  ...              ...   \n",
      "12679        never       1~3                  4~8              1~3   \n",
      "12680        never       1~3                  4~8              1~3   \n",
      "12681        never       1~3                  4~8              1~3   \n",
      "12682        never       1~3                  4~8              1~3   \n",
      "12683        never       1~3                  4~8              1~3   \n",
      "\n",
      "      toCoupon_GEQ5min toCoupon_GEQ15min toCoupon_GEQ25min direction_same  \\\n",
      "0                    1                 0                 0              0   \n",
      "1                    1                 0                 0              0   \n",
      "2                    1                 1                 0              0   \n",
      "3                    1                 1                 0              0   \n",
      "4                    1                 1                 0              0   \n",
      "...                ...               ...               ...            ...   \n",
      "12679                1                 0                 0              1   \n",
      "12680                1                 0                 0              0   \n",
      "12681                1                 0                 0              1   \n",
      "12682                1                 1                 1              0   \n",
      "12683                1                 0                 0              1   \n",
      "\n",
      "      direction_opp  Y  \n",
      "0                 1  1  \n",
      "1                 1  0  \n",
      "2                 1  1  \n",
      "3                 1  0  \n",
      "4                 1  0  \n",
      "...             ... ..  \n",
      "12679             0  1  \n",
      "12680             1  1  \n",
      "12681             0  0  \n",
      "12682             1  0  \n",
      "12683             0  0  \n",
      "\n",
      "[12576 rows x 26 columns]\n"
     ]
    }
   ],
   "source": [
    "rows_with_missing = data[data.isna().any(axis=1)] \n",
    "print(rows_with_missing)\n"
   ]
  },
  {
   "cell_type": "markdown",
   "metadata": {
    "id": "bSdVSpYB_qRH"
   },
   "source": [
    "3. Decide what to do about your missing data -- drop, replace, other..."
   ]
  },
  {
   "cell_type": "code",
   "execution_count": 17,
   "metadata": {
    "id": "tyvoAC5F_qRI"
   },
   "outputs": [
    {
     "name": "stdout",
     "output_type": "stream",
     "text": [
      "        destination  passanger weather  temperature  time  \\\n",
      "22  No Urgent Place      Alone   Sunny           55   2PM   \n",
      "23  No Urgent Place  Friend(s)   Sunny           80  10AM   \n",
      "24  No Urgent Place  Friend(s)   Sunny           80  10AM   \n",
      "25  No Urgent Place  Friend(s)   Sunny           80  10AM   \n",
      "26  No Urgent Place  Friend(s)   Sunny           80   2PM   \n",
      "\n",
      "                   coupon expiration gender age maritalStatus  ...  \\\n",
      "22        Restaurant(<20)         1d   Male  21        Single  ...   \n",
      "23           Coffee House         2h   Male  21        Single  ...   \n",
      "24                    Bar         1d   Male  21        Single  ...   \n",
      "25  Carry out & Take away         2h   Male  21        Single  ...   \n",
      "26           Coffee House         1d   Male  21        Single  ...   \n",
      "\n",
      "    CoffeeHouse CarryAway RestaurantLessThan20 Restaurant20To50  \\\n",
      "22        less1       4~8                  4~8            less1   \n",
      "23        less1       4~8                  4~8            less1   \n",
      "24        less1       4~8                  4~8            less1   \n",
      "25        less1       4~8                  4~8            less1   \n",
      "26        less1       4~8                  4~8            less1   \n",
      "\n",
      "   toCoupon_GEQ5min toCoupon_GEQ15min toCoupon_GEQ25min direction_same  \\\n",
      "22                1                 0                 0              0   \n",
      "23                1                 0                 0              0   \n",
      "24                1                 0                 0              0   \n",
      "25                1                 1                 0              0   \n",
      "26                1                 0                 0              0   \n",
      "\n",
      "   direction_opp  Y  \n",
      "22             1  1  \n",
      "23             1  0  \n",
      "24             1  1  \n",
      "25             1  0  \n",
      "26             1  0  \n",
      "\n",
      "[5 rows x 25 columns]\n",
      "<class 'pandas.core.frame.DataFrame'>\n",
      "Index: 12079 entries, 22 to 12683\n",
      "Data columns (total 25 columns):\n",
      " #   Column                Non-Null Count  Dtype \n",
      "---  ------                --------------  ----- \n",
      " 0   destination           12079 non-null  object\n",
      " 1   passanger             12079 non-null  object\n",
      " 2   weather               12079 non-null  object\n",
      " 3   temperature           12079 non-null  int64 \n",
      " 4   time                  12079 non-null  object\n",
      " 5   coupon                12079 non-null  object\n",
      " 6   expiration            12079 non-null  object\n",
      " 7   gender                12079 non-null  object\n",
      " 8   age                   12079 non-null  object\n",
      " 9   maritalStatus         12079 non-null  object\n",
      " 10  has_children          12079 non-null  int64 \n",
      " 11  education             12079 non-null  object\n",
      " 12  occupation            12079 non-null  object\n",
      " 13  income                12079 non-null  object\n",
      " 14  Bar                   12079 non-null  object\n",
      " 15  CoffeeHouse           12079 non-null  object\n",
      " 16  CarryAway             12079 non-null  object\n",
      " 17  RestaurantLessThan20  12079 non-null  object\n",
      " 18  Restaurant20To50      12079 non-null  object\n",
      " 19  toCoupon_GEQ5min      12079 non-null  int64 \n",
      " 20  toCoupon_GEQ15min     12079 non-null  int64 \n",
      " 21  toCoupon_GEQ25min     12079 non-null  int64 \n",
      " 22  direction_same        12079 non-null  int64 \n",
      " 23  direction_opp         12079 non-null  int64 \n",
      " 24  Y                     12079 non-null  int64 \n",
      "dtypes: int64(8), object(17)\n",
      "memory usage: 2.4+ MB\n",
      "None\n"
     ]
    }
   ],
   "source": [
    "# Car has a lot of empty cells and hence removing the Car column completely\n",
    "data = data.drop('car', axis=1)\n",
    "data = data.dropna() #Removing other rows with null data values\n",
    "\n",
    "print(data.head())\n",
    "print(data.info())\n"
   ]
  },
  {
   "cell_type": "markdown",
   "metadata": {
    "id": "YE6oJbXd_qRI"
   },
   "source": [
    "4. What proportion of the total observations chose to accept the coupon?\n",
    "\n"
   ]
  },
  {
   "cell_type": "code",
   "execution_count": 19,
   "metadata": {
    "id": "86GGqBTv_qRI"
   },
   "outputs": [
    {
     "name": "stdout",
     "output_type": "stream",
     "text": [
      "Yes to coupon count \n",
      "6877\n",
      "Proportion of the total observations chose to accept coupons after data cleanup\n",
      "0.5693352098683666\n"
     ]
    }
   ],
   "source": [
    "yes_to_coupons = (data['Y'] == 1).sum()\n",
    "print('Yes to coupon count ')\n",
    "print(yes_to_coupons)\n",
    "print('Proportion of the total observations chose to accept coupons after data cleanup')\n",
    "print(yes_to_coupons / len(data))\n"
   ]
  },
  {
   "cell_type": "markdown",
   "metadata": {
    "id": "vflz0DoE_qRI"
   },
   "source": [
    "5. Use a bar plot to visualize the `coupon` column."
   ]
  },
  {
   "cell_type": "code",
   "execution_count": 21,
   "metadata": {
    "id": "dHFh3E45_qRI"
   },
   "outputs": [
    {
     "data": {
      "image/png": "[encoded data removed]",
      "text/plain": [
       "<Figure size 1000x500 with 1 Axes>"
      ]
     },
     "metadata": {},
     "output_type": "display_data"
    }
   ],
   "source": [
    "# Count occurrences of each coupon type\n",
    "coupon_counts = data['coupon'].value_counts()\n",
    "\n",
    "# Plot the bar chart\n",
    "plt.figure(figsize=(10, 5))\n",
    "coupon_counts.plot(kind='bar', color='skyblue', edgecolor='black')\n",
    "\n",
    "# Customize the chart\n",
    "plt.xlabel(\"Coupon Type\") # Add label for x axis\n",
    "plt.ylabel(\"Count\") # Add label for y axis\n",
    "plt.title(\"Distribution of Coupon Types\") # Add title for the whole plot\n",
    "plt.xticks(rotation=45)  # Rotate labels for better readability\n",
    "\n",
    "# Display the bar chart\n",
    "plt.show()\n"
   ]
  },
  {
   "cell_type": "markdown",
   "metadata": {
    "id": "Qw4lCyx2_qRI"
   },
   "source": [
    "6. Use a histogram to visualize the temperature column."
   ]
  },
  {
   "cell_type": "code",
   "execution_count": 23,
   "metadata": {
    "id": "Yg9Anv71_qRI"
   },
   "outputs": [
    {
     "data": {
      "image/png": "[encoded data removed]",
      "text/plain": [
       "<Figure size 1000x500 with 1 Axes>"
      ]
     },
     "metadata": {},
     "output_type": "display_data"
    }
   ],
   "source": [
    "plt.figure(figsize=(10, 5))\n",
    "plt.hist(data['temperature'], bins=10, color='skyblue', edgecolor='black')\n",
    "\n",
    "# Customize the chart\n",
    "plt.xlabel(\"Temperature\") # Add label for x axis\n",
    "plt.ylabel(\"Frequency\") # Add label for y axis\n",
    "plt.title(\"Distribution of Temperature\") # Add title for the whole plot\n",
    "plt.grid(axis='y', linestyle='--', alpha=0.7)\n",
    "\n",
    "# Display the histogram\n",
    "plt.show()\n"
   ]
  },
  {
   "cell_type": "code",
   "execution_count": null,
   "metadata": {
    "id": "zLtOaJQk_qRI"
   },
   "outputs": [],
   "source": []
  },
  {
   "cell_type": "code",
   "execution_count": null,
   "metadata": {
    "id": "7GBHZKBp_qRJ"
   },
   "outputs": [],
   "source": []
  },
  {
   "cell_type": "code",
   "execution_count": null,
   "metadata": {
    "id": "Y5nBUA-j_qRJ"
   },
   "outputs": [],
   "source": []
  },
  {
   "cell_type": "code",
   "execution_count": null,
   "metadata": {
    "id": "ShcUC-Vm_qRJ"
   },
   "outputs": [],
   "source": []
  },
  {
   "cell_type": "markdown",
   "metadata": {
    "id": "FupfgeJk_qRJ"
   },
   "source": [
    "**Investigating the Bar Coupons**\n",
    "\n",
    "Now, we will lead you through an exploration of just the bar related coupons.  \n",
    "\n",
    "1. Create a new `DataFrame` that contains just the bar coupons.\n"
   ]
  },
  {
   "cell_type": "code",
   "execution_count": 25,
   "metadata": {
    "id": "tMBlWuGq_qRJ"
   },
   "outputs": [
    {
     "name": "stdout",
     "output_type": "stream",
     "text": [
      "           destination  passanger weather  temperature  time coupon  \\\n",
      "9      No Urgent Place     Kid(s)   Sunny           80  10AM    Bar   \n",
      "13                Home      Alone   Sunny           55   6PM    Bar   \n",
      "17                Work      Alone   Sunny           55   7AM    Bar   \n",
      "24     No Urgent Place  Friend(s)   Sunny           80  10AM    Bar   \n",
      "35                Home      Alone   Sunny           55   6PM    Bar   \n",
      "...                ...        ...     ...          ...   ...    ...   \n",
      "12663  No Urgent Place  Friend(s)   Sunny           80  10PM    Bar   \n",
      "12664  No Urgent Place  Friend(s)   Sunny           55  10PM    Bar   \n",
      "12667  No Urgent Place      Alone   Rainy           55  10AM    Bar   \n",
      "12670  No Urgent Place    Partner   Rainy           55   6PM    Bar   \n",
      "12682             Work      Alone   Snowy           30   7AM    Bar   \n",
      "\n",
      "      expiration  gender age      maritalStatus  ...  CoffeeHouse CarryAway  \\\n",
      "9             1d  Female  21  Unmarried partner  ...        never       NaN   \n",
      "13            1d  Female  21  Unmarried partner  ...        never       NaN   \n",
      "17            1d  Female  21  Unmarried partner  ...        never       NaN   \n",
      "24            1d    Male  21             Single  ...        less1       4~8   \n",
      "35            1d    Male  21             Single  ...        less1       4~8   \n",
      "...          ...     ...  ..                ...  ...          ...       ...   \n",
      "12663         1d    Male  26             Single  ...        never       1~3   \n",
      "12664         2h    Male  26             Single  ...        never       1~3   \n",
      "12667         1d    Male  26             Single  ...        never       1~3   \n",
      "12670         2h    Male  26             Single  ...        never       1~3   \n",
      "12682         1d    Male  26             Single  ...        never       1~3   \n",
      "\n",
      "      RestaurantLessThan20 Restaurant20To50 toCoupon_GEQ5min  \\\n",
      "9                      4~8              1~3                1   \n",
      "13                     4~8              1~3                1   \n",
      "17                     4~8              1~3                1   \n",
      "24                     4~8            less1                1   \n",
      "35                     4~8            less1                1   \n",
      "...                    ...              ...              ...   \n",
      "12663                  4~8              1~3                1   \n",
      "12664                  4~8              1~3                1   \n",
      "12667                  4~8              1~3                1   \n",
      "12670                  4~8              1~3                1   \n",
      "12682                  4~8              1~3                1   \n",
      "\n",
      "      toCoupon_GEQ15min toCoupon_GEQ25min direction_same direction_opp  Y  \n",
      "9                     1                 0              0             1  0  \n",
      "13                    0                 0              1             0  1  \n",
      "17                    1                 1              0             1  0  \n",
      "24                    0                 0              0             1  1  \n",
      "35                    0                 0              1             0  1  \n",
      "...                 ...               ...            ...           ... ..  \n",
      "12663                 1                 0              0             1  0  \n",
      "12664                 1                 0              0             1  0  \n",
      "12667                 1                 0              0             1  0  \n",
      "12670                 1                 0              0             1  0  \n",
      "12682                 1                 1              0             1  0  \n",
      "\n",
      "[1996 rows x 26 columns]\n"
     ]
    },
    {
     "name": "stderr",
     "output_type": "stream",
     "text": [
      "<>:2: SyntaxWarning: invalid escape sequence '\\D'\n",
      "<>:2: SyntaxWarning: invalid escape sequence '\\D'\n",
      "C:\\Users\\payam\\AppData\\Local\\Temp\\ipykernel_9928\\1352915094.py:2: SyntaxWarning: invalid escape sequence '\\D'\n",
      "  data = pd.read_csv(\"C:\\Downloads\\coupons.csv\")\n"
     ]
    }
   ],
   "source": [
    "# Load your dataset\n",
    "data = pd.read_csv(\"C:\\Downloads\\coupons.csv\") \n",
    "\n",
    "# Query rows where the coupon column is \"Bar\"\n",
    "bar_coupons = data[data['coupon'] == 'Bar']\n",
    "bar_coupons = bar_coupons.dropna(subset=['Bar']) #Drop the null values for bar coupons\n",
    "\n",
    "# Display the filtered DataFrame\n",
    "print(bar_coupons)\n"
   ]
  },
  {
   "cell_type": "markdown",
   "metadata": {
    "id": "8ue6uCqf_qRJ"
   },
   "source": [
    "2. What proportion of bar coupons were accepted?\n"
   ]
  },
  {
   "cell_type": "code",
   "execution_count": 27,
   "metadata": {
    "id": "hSdte8Mi_qRK"
   },
   "outputs": [
    {
     "name": "stdout",
     "output_type": "stream",
     "text": [
      "Yes to Bar coupon count \n",
      "819\n",
      "Proportion of the bar coupons that were accepted \n",
      "0.4103206412825651\n",
      "['never' 'less1' '1~3' 'gt8' nan '4~8']\n"
     ]
    }
   ],
   "source": [
    "yes_to_coupons = (bar_coupons['Y'] == 1).sum()\n",
    "print('Yes to Bar coupon count ')\n",
    "print(yes_to_coupons)\n",
    "print('Proportion of the bar coupons that were accepted ')\n",
    "print(yes_to_coupons / len(bar_coupons))\n",
    "\n",
    "\n",
    "# Find the unique values of Bar to be able to use them in 'isin' function below\n",
    "unique_bar_values = data['Bar'].unique()\n",
    "\n",
    "# Print the unique values\n",
    "print(unique_bar_values)\n"
   ]
  },
  {
   "cell_type": "markdown",
   "metadata": {
    "id": "85nA_iEi_qRK"
   },
   "source": [
    "3. Compare the acceptance rate between those who went to a bar 3 or fewer times a month to those who went more.\n"
   ]
  },
  {
   "cell_type": "code",
   "execution_count": 29,
   "metadata": {
    "id": "LBOrN-XM_qRK"
   },
   "outputs": [
    {
     "name": "stdout",
     "output_type": "stream",
     "text": [
      "Acceptance rate of Bar visitors with 3 or less times a month \n",
      "0.37061769616026713\n",
      "Acceptance rate of Bar visitors with more than 3 times a month \n",
      "0.7688442211055276\n"
     ]
    }
   ],
   "source": [
    "bar_visits_3_times_or_fewer = bar_coupons[bar_coupons['Bar'].isin(['never', 'less1', '1~3'])].shape[0]\n",
    "bar_visits_3_times_or_fewer_with_coupon_acceptance = bar_coupons[(bar_coupons['Bar'].isin(['never', 'less1', '1~3'])) & (bar_coupons['Y'] == 1)].shape[0]\n",
    "print('Acceptance rate of Bar visitors with 3 or less times a month ')\n",
    "print(bar_visits_3_times_or_fewer_with_coupon_acceptance / bar_visits_3_times_or_fewer)\n",
    "\n",
    "bar_visits_more_than_3_times = bar_coupons[bar_coupons['Bar'].isin(['gt8', '4~8'])].shape[0]\n",
    "bar_visits_more_than_3_times_with_coupon_acceptance = bar_coupons[(bar_coupons['Bar'].isin(['gt8', '4~8'])) & (bar_coupons['Y'] == 1)].shape[0]\n",
    "print('Acceptance rate of Bar visitors with more than 3 times a month ')\n",
    "print(bar_visits_more_than_3_times_with_coupon_acceptance / bar_visits_more_than_3_times)\n"
   ]
  },
  {
   "cell_type": "markdown",
   "metadata": {
    "id": "RBgcQwH4_qRK"
   },
   "source": [
    "4. Compare the acceptance rate between drivers who go to a bar more than once a month and are over the age of 25 to the all others.  Is there a difference?\n"
   ]
  },
  {
   "cell_type": "code",
   "execution_count": 31,
   "metadata": {
    "id": "bf28bbeX_qRK"
   },
   "outputs": [
    {
     "name": "stdout",
     "output_type": "stream",
     "text": [
      "['21' '46' '26' '31' '41' '50plus' '36' 'below21']\n",
      "Bar visitors who go to bar more than once a month and are over the age of 25\n",
      "292\n",
      "Acceptance rate of bar visitors above 25 years of age who go to bar more than once a month\n",
      "0.6952380952380952\n",
      "Drivers going to bar more than once a month\n",
      "596\n",
      "Acceptance rate of bar visitors who go to bar more than once a month\n",
      "0.6879194630872483\n",
      "The difference between acceptance rates of drivers going to a bar more than once regardless of whether they are over 25 or not are negligible (i.e. less than 2%)\n"
     ]
    }
   ],
   "source": [
    "#Find all the unique ages to be able to use them in the above 25 queries below\n",
    "unique_age_values = data['age'].unique()\n",
    "\n",
    "# Print the unique values\n",
    "print(unique_age_values)\n",
    "\n",
    "bar_visitors_more_than_once_above_25 = bar_coupons[(bar_coupons['Bar'].isin(['1~3', 'gt8', '4~8'])) \n",
    "    & (bar_coupons['age'].isin(['46', '26', '31', '41', '50plus', '36']))].shape[0]\n",
    "\n",
    "bar_visitors_more_than_once_above_25_accepted_coupon = bar_coupons[(bar_coupons['Bar'].isin(['1~3', 'gt8', '4~8'])) \n",
    "    & (bar_coupons['age'].isin(['46', '26', '31', '41', '50plus', '36'])) & (bar_coupons['Y'] == 1)].shape[0]\n",
    "print('Bar visitors who go to bar more than once a month and are over the age of 25')\n",
    "print(bar_visitors_more_than_once_above_25_accepted_coupon)\n",
    "\n",
    "print('Acceptance rate of bar visitors above 25 years of age who go to bar more than once a month')\n",
    "print(bar_visitors_more_than_once_above_25_accepted_coupon/bar_visitors_more_than_once_above_25)\n",
    "\n",
    "bar_visitors_more_than_once = bar_coupons[bar_coupons['Bar'].isin(['1~3', 'gt8', '4~8'])].shape[0]\n",
    "\n",
    "print('Drivers going to bar more than once a month')\n",
    "print(bar_visitors_more_than_once)\n",
    "\n",
    "bar_visitors_more_than_once_accepted_coupon = bar_coupons[(bar_coupons['Bar'].isin(['1~3', 'gt8', '4~8'])) \n",
    "    & (bar_coupons['Y'] == 1)].shape[0]\n",
    "\n",
    "print('Acceptance rate of bar visitors who go to bar more than once a month')\n",
    "print(bar_visitors_more_than_once_accepted_coupon/bar_visitors_more_than_once)\n",
    "\n",
    "# The acceptance rates of drivers going to a bar more than once regardless of whether they are over 25 or not are negligible\n",
    "print('The difference between acceptance rates of drivers going to a bar more than once regardless of whether they are over 25 or not are negligible (i.e. less than 2%)')\n"
   ]
  },
  {
   "cell_type": "markdown",
   "metadata": {
    "id": "S4RKT4PJ_qRK"
   },
   "source": [
    "5. Use the same process to compare the acceptance rate between drivers who go to bars more than once a month and had passengers that were not a kid and had occupations other than farming, fishing, or forestry.\n"
   ]
  },
  {
   "cell_type": "code",
   "execution_count": 33,
   "metadata": {
    "id": "sENaI2Tg_qRK"
   },
   "outputs": [
    {
     "name": "stdout",
     "output_type": "stream",
     "text": [
      "['Alone' 'Friend(s)' 'Kid(s)' 'Partner']\n",
      "['Unemployed' 'Architecture & Engineering' 'Student'\n",
      " 'Education&Training&Library' 'Healthcare Support'\n",
      " 'Healthcare Practitioners & Technical' 'Sales & Related' 'Management'\n",
      " 'Arts Design Entertainment Sports & Media' 'Computer & Mathematical'\n",
      " 'Life Physical Social Science' 'Personal Care & Service'\n",
      " 'Community & Social Services' 'Office & Administrative Support'\n",
      " 'Construction & Extraction' 'Legal' 'Retired'\n",
      " 'Installation Maintenance & Repair' 'Transportation & Material Moving'\n",
      " 'Business & Financial' 'Protective Service'\n",
      " 'Food Preparation & Serving Related' 'Production Occupations'\n",
      " 'Building & Grounds Cleaning & Maintenance' 'Farming Fishing & Forestry']\n",
      "Drivers going to bar more than once a month and had passengers that were not a kid and had occupations other than farming, fishing, and forestry\n",
      "551\n",
      "Acceptance rate of drivers going to bar more than once a month and had passengers that were not a kid and had occupations other than farming, fishing, and forestry\n",
      "0.7132486388384754\n",
      "Acceptance rate of drivers who go to bar more than once a month with passengers that were not kid and not having the occupation of farming, fshing, and forestry is higher than the total population of drivers who go to bar more than once\n"
     ]
    }
   ],
   "source": [
    "#Find all the unique passengers to be able to find the drivers with kids in the queries below\n",
    "unique_passenger_values = data['passanger'].unique()\n",
    "\n",
    "# Print the unique values\n",
    "print(unique_passenger_values)\n",
    "\n",
    "#Find all the unique occupations to be able to use them in the queries below\n",
    "unique_occupation_values = data['occupation'].unique()\n",
    "\n",
    "# Print the unique values\n",
    "print(unique_occupation_values)\n",
    "\n",
    "bar_visitors_more_than_once_no_kid_passengers_not_farming_fishing_forestry = bar_coupons[bar_coupons['Bar'].isin(['1~3', 'gt8', '4~8']) \n",
    "    & (~bar_coupons['passanger'].isin(['Kid(s)'])) & (~bar_coupons['occupation'].isin(['Farming Fishing & Forestry']))].shape[0]\n",
    "\n",
    "print('Drivers going to bar more than once a month and had passengers that were not a kid and had occupations other than farming, fishing, and forestry')\n",
    "print(bar_visitors_more_than_once_no_kid_passengers_not_farming_fishing_forestry)\n",
    "\n",
    "bar_visitors_more_than_once_no_kid_passengers_not_farming_fishing_forestry_accepted_coupon = bar_coupons[bar_coupons['Bar'].isin(['1~3', 'gt8', '4~8']) \n",
    "    & (~bar_coupons['passanger'].isin(['Kid(s)'])) & (~bar_coupons['occupation'].isin(['Farming Fishing & Forestry'])) & (bar_coupons['Y'] == 1)].shape[0]\n",
    "\n",
    "print('Acceptance rate of drivers going to bar more than once a month and had passengers that were not a kid and had occupations other than farming, fishing, and forestry')\n",
    "print(bar_visitors_more_than_once_no_kid_passengers_not_farming_fishing_forestry_accepted_coupon/\n",
    "      bar_visitors_more_than_once_no_kid_passengers_not_farming_fishing_forestry)\n",
    "\n",
    "print('Acceptance rate of drivers who go to bar more than once a month with passengers that were not kid and not having the occupation of farming, fshing, and forestry is higher than the total population of drivers who go to bar more than once')\n"
   ]
  },
  {
   "cell_type": "markdown",
   "metadata": {
    "id": "n2LIUTil_qRK"
   },
   "source": [
    "6. Compare the acceptance rates between those drivers who:\n",
    "\n",
    "- go to bars more than once a month, had passengers that were not a kid, and were not widowed *OR*\n",
    "- go to bars more than once a month and are under the age of 30 *OR*\n",
    "- go to cheap restaurants more than 4 times a month and income is less than 50K.\n",
    "\n"
   ]
  },
  {
   "cell_type": "code",
   "execution_count": 35,
   "metadata": {
    "id": "aK_wEzx7_qRK"
   },
   "outputs": [
    {
     "name": "stdout",
     "output_type": "stream",
     "text": [
      "Bar visitors, more than once, no kids, and not windowed\n",
      "551\n",
      "Bar visitors, more than once, no kids, not windowed, and accepted coupons\n",
      "393\n",
      "Acceptance rates of drivers, more than once, no kids, and not windowed\n",
      "0.7132486388384754\n",
      "Bar visitors, more than once and under age of 30\n",
      "345\n",
      "Bar visitors, more than once and under age of 30 who accepted coupon\n",
      "249\n",
      "Acceptance rates of drivers, more than once under the age of 30\n",
      "0.7217391304347827\n",
      "['4~8' '1~3' 'less1' 'gt8' nan 'never']\n",
      "['$37500 - $49999' '$62500 - $74999' '$12500 - $24999' '$75000 - $87499'\n",
      " '$50000 - $62499' '$25000 - $37499' '$100000 or More' '$87500 - $99999'\n",
      " 'Less than $12500']\n",
      "Bar visitors going to cheap restaurants more than 4 times a months with income level less than 50K\n",
      "339\n",
      "Bar visitors going to cheap restaurants more than 4 times a month with income level less than 50K and accepted coupons\n",
      "155\n",
      "Acceptance rates of drivers visiting cheap restaurants more than 4 times a month with income level less than 50K\n",
      "0.45722713864306785\n"
     ]
    }
   ],
   "source": [
    "# . Drivers who go to bars more than once a month, had passengers that were not a kid, and were not windowed\n",
    "bar_visitors_more_than_once_no_kid_passengers_not_windowed = bar_coupons[bar_coupons['Bar'].isin(['1~3', 'gt8', '4~8']) \n",
    "    & (~bar_coupons['passanger'].isin(['Kid(s)'])) & (~bar_coupons['maritalStatus'].isin(['Widowed']))].shape[0]\n",
    "\n",
    "print('Bar visitors, more than once, no kids, and not windowed')\n",
    "print(bar_visitors_more_than_once_no_kid_passengers_not_windowed)\n",
    "\n",
    "bar_visitors_more_than_once_no_kid_passengers_not_windowed_accepted_coupon = bar_coupons[bar_coupons['Bar'].isin(['1~3', 'gt8', '4~8']) \n",
    "    & (~bar_coupons['passanger'].isin(['Kid(s)'])) & (~bar_coupons['maritalStatus'].isin(['Widowed'])) & (bar_coupons['Y'] == 1)].shape[0]\n",
    "\n",
    "print('Bar visitors, more than once, no kids, not windowed, and accepted coupons')\n",
    "print(bar_visitors_more_than_once_no_kid_passengers_not_windowed_accepted_coupon)\n",
    "\n",
    "print('Acceptance rates of drivers, more than once, no kids, and not windowed')\n",
    "print(bar_visitors_more_than_once_no_kid_passengers_not_windowed_accepted_coupon/bar_visitors_more_than_once_no_kid_passengers_not_windowed)\n",
    "\n",
    "# . Drivers who go to bars more than once a month and are under the age of 30\n",
    "bar_visitors_more_than_once_under_age_30 = bar_coupons[bar_coupons['Bar'].isin(['1~3', 'gt8', '4~8']) \n",
    "    & (~bar_coupons['maritalStatus'].isin(['Widowed'])) & (bar_coupons['age'].isin(['21', '26', 'below21']))].shape[0]\n",
    "\n",
    "print('Bar visitors, more than once and under age of 30')\n",
    "print(bar_visitors_more_than_once_under_age_30)\n",
    "\n",
    "bar_visitors_more_than_once_under_age_30_accepted_coupon = bar_coupons[bar_coupons['Bar'].isin(['1~3', 'gt8', '4~8']) \n",
    "    & (~bar_coupons['maritalStatus'].isin(['Widowed'])) & (bar_coupons['age'].isin(['21', '26', 'below21'])) & (bar_coupons['Y'] == 1)].shape[0]\n",
    "\n",
    "print('Bar visitors, more than once and under age of 30 who accepted coupon')\n",
    "print(bar_visitors_more_than_once_under_age_30_accepted_coupon)\n",
    "\n",
    "print('Acceptance rates of drivers, more than once under the age of 30')\n",
    "print(bar_visitors_more_than_once_under_age_30_accepted_coupon/bar_visitors_more_than_once_under_age_30)\n",
    "\n",
    "# . Drivers who go to cheap restaurants more than 4 times a month and income is less than 50K\n",
    "\n",
    "#Find all the unique restaurants under 20 to be used in the queries below\n",
    "unique_restaurant_under_20_values = data['RestaurantLessThan20'].unique()\n",
    "\n",
    "# Print the unique values\n",
    "print(unique_restaurant_under_20_values)\n",
    "\n",
    "#Find all the unique income levels to be used in the queries below\n",
    "unique_income_values = data['income'].unique()\n",
    "\n",
    "# Print the unique values\n",
    "print(unique_income_values)\n",
    "\n",
    "bar_visitors_cheap_restaurants_more_than_4_times_income_less_than_50K = bar_coupons[bar_coupons['RestaurantLessThan20'].isin(['4~8', 'gt8']) \n",
    "    & (bar_coupons['income'].isin(['Less than $12500', '$12500 - $24999', '$25000 - $37499', '$37500 - $49999']))].shape[0]\n",
    "\n",
    "print('Bar visitors going to cheap restaurants more than 4 times a months with income level less than 50K')\n",
    "print(bar_visitors_cheap_restaurants_more_than_4_times_income_less_than_50K)\n",
    "\n",
    "bar_visitors_cheap_restaurants_more_than_4_times_income_less_than_50K_coupon_accepted = bar_coupons[bar_coupons['RestaurantLessThan20'].isin(['4~8', 'gt8']) \n",
    "    & (bar_coupons['income'].isin(['Less than $12500', '$12500 - $24999', '$25000 - $37499', '$37500 - $49999'])) \n",
    "    & (bar_coupons['Y'] == 1)].shape[0]\n",
    "\n",
    "print('Bar visitors going to cheap restaurants more than 4 times a month with income level less than 50K and accepted coupons')\n",
    "print(bar_visitors_cheap_restaurants_more_than_4_times_income_less_than_50K_coupon_accepted)\n",
    "\n",
    "print('Acceptance rates of drivers visiting cheap restaurants more than 4 times a month with income level less than 50K')\n",
    "print(bar_visitors_cheap_restaurants_more_than_4_times_income_less_than_50K_coupon_accepted/\n",
    "      bar_visitors_cheap_restaurants_more_than_4_times_income_less_than_50K)\n"
   ]
  },
  {
   "cell_type": "markdown",
   "metadata": {
    "id": "v3fL3QkO_qRK"
   },
   "source": [
    "7.  Based on these observations, what do you hypothesize about drivers who accepted the bar coupons?"
   ]
  },
  {
   "cell_type": "code",
   "execution_count": 37,
   "metadata": {
    "id": "Y48naDFh_qRL"
   },
   "outputs": [
    {
     "name": "stdout",
     "output_type": "stream",
     "text": [
      "Drivers who accepted the bar coupons have: income levels more than 50K, mainly under the age of 30, do not have kids in their cars, they are not widowed, and do not frequently go to cheap restaurants\n"
     ]
    }
   ],
   "source": [
    "# Drivers who accepted the bar coupons have the following characteristics:\n",
    "#  . They have income levels more than 50K\n",
    "#  . They are mainly under the age of 30\n",
    "#  . They do not have kids in their cars\n",
    "#  . They are not windowed\n",
    "#  . They do not frequently go to cheap restaurants\n",
    "print('Drivers who accepted the bar coupons have: income levels more than 50K, mainly under the age of 30, do not have kids in their cars, they are not widowed, and do not frequently go to cheap restaurants')\n"
   ]
  },
  {
   "cell_type": "markdown",
   "metadata": {
    "id": "r4Hu1zOb_qRL"
   },
   "source": [
    "### Independent Investigation\n",
    "\n",
    "Using the bar coupon example as motivation, you are to explore one of the other coupon groups and try to determine the characteristics of passengers who accept the coupons.  "
   ]
  },
  {
   "cell_type": "code",
   "execution_count": 39,
   "metadata": {
    "id": "0c71cQhu_qRL"
   },
   "outputs": [
    {
     "name": "stdout",
     "output_type": "stream",
     "text": [
      "['Sunny' 'Rainy' 'Snowy']\n",
      "[55 80 30]\n",
      "bar_visitors_sunny\n",
      "587\n",
      "bar_visitors_rainy\n",
      "156\n",
      "bar_visitors_snowy\n",
      "76\n",
      "bar_visitors_temperature_80\n",
      "256\n",
      "bar_visitors_temperature_55\n",
      "425\n",
      "bar_visitors_temperature_30\n",
      "138\n"
     ]
    }
   ],
   "source": [
    "#Find all the unique weather values to be able to use them in the queries below\n",
    "unique_weather_values = data['weather'].unique()\n",
    "\n",
    "# Print the unique values\n",
    "print(unique_weather_values)\n",
    "\n",
    "#Find all the unique temperature values to be able to use them in the queries below\n",
    "unique_temperature_values = data['temperature'].unique()\n",
    "\n",
    "# Print the unique values\n",
    "print(unique_temperature_values)\n",
    "\n",
    "bar_visitors_sunny = bar_coupons[(bar_coupons['weather'].isin(['Sunny']))\n",
    "    & (bar_coupons['Y'] == 1)].shape[0]\n",
    "\n",
    "print('bar_visitors_sunny')\n",
    "print(bar_visitors_sunny)\n",
    "\n",
    "bar_visitors_rainy = bar_coupons[(bar_coupons['weather'].isin(['Rainy']))\n",
    "    & (bar_coupons['Y'] == 1)].shape[0]\n",
    "\n",
    "print('bar_visitors_rainy')\n",
    "print(bar_visitors_rainy)\n",
    "\n",
    "bar_visitors_snowy = bar_coupons[(bar_coupons['weather'].isin(['Snowy']))\n",
    "    & (bar_coupons['Y'] == 1)].shape[0]\n",
    "\n",
    "print('bar_visitors_snowy')\n",
    "print(bar_visitors_snowy)\n",
    "\n",
    "bar_coupons['temperature'] = pd.to_numeric(bar_coupons['temperature'])\n",
    "\n",
    "bar_visitors_temperature_80 = bar_coupons[(bar_coupons['temperature'] == 80)\n",
    "    & (bar_coupons['Y'] == 1)].shape[0]\n",
    "\n",
    "print('bar_visitors_temperature_80')\n",
    "print(bar_visitors_temperature_80)\n",
    "\n",
    "bar_visitors_temperature_55 = bar_coupons[(bar_coupons['temperature'] == 55)\n",
    "    & (bar_coupons['Y'] == 1)].shape[0]\n",
    "\n",
    "print('bar_visitors_temperature_55')\n",
    "print(bar_visitors_temperature_55)\n",
    "\n",
    "bar_visitors_temperature_30 = bar_coupons[(bar_coupons['temperature'] == 30)\n",
    "    & (bar_coupons['Y'] == 1)].shape[0]\n",
    "\n",
    "print('bar_visitors_temperature_30')\n",
    "print(bar_visitors_temperature_30)\n",
    "\n",
    "\n",
    "# Based on the above findings on temperature and weather\n",
    "\n",
    "# . Weather seems to have significant effect on whether coupon is accepted or not. As you can see snowy days have significantly less acceptance (i.e. 76)\n",
    "#   rainy has more but significantly less than sunny days (i.e. 156) and sunny has the most number of acceptance (i.e. 587)\n",
    "#  . Temperature seems to have impacts also on acceptance. When the weather is not too hot or too cold, acceptance has been highest (i.e. on temperature of 55, 425 acceptance)\n",
    "#    Too cold has the least acceptance (i.e. temperature of 30 has only 138 acceptance) and too hot has much more than too cold but much less than \n",
    "#    comfortable temperature (i.e. on temperature 80, 256 acceptance)\n"
   ]
  },
  {
   "cell_type": "code",
   "execution_count": null,
   "metadata": {
    "id": "QEsBkvIN_qRL"
   },
   "outputs": [],
   "source": []
  },
  {
   "cell_type": "code",
   "execution_count": null,
   "metadata": {
    "id": "fTC2WGE3_qRL"
   },
   "outputs": [],
   "source": []
  },
  {
   "cell_type": "code",
   "execution_count": null,
   "metadata": {
    "id": "RrqUWn7d_qRL"
   },
   "outputs": [],
   "source": []
  },
  {
   "cell_type": "code",
   "execution_count": null,
   "metadata": {
    "id": "_oykf8YP_qRL"
   },
   "outputs": [],
   "source": []
  }
 ],
 "metadata": {
  "colab": {
   "provenance": []
  },
  "kernelspec": {
   "display_name": "Python [conda env:base] *",
   "language": "python",
   "name": "conda-base-py"
  },
  "language_info": {
   "codemirror_mode": {
    "name": "ipython",
    "version": 3
   },
   "file_extension": ".py",
   "mimetype": "text/x-python",
   "name": "python",
   "nbconvert_exporter": "python",
   "pygments_lexer": "ipython3",
   "version": "3.12.7"
  }
 },
 "nbformat": 4,
 "nbformat_minor": 4
}
